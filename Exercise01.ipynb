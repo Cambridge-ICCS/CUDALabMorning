{
 "cells": [
  {
   "cell_type": "markdown",
   "id": "83f844cc-9ce0-4c1b-88d9-f6c5e812325a",
   "metadata": {},
   "source": [
    "# About\n",
    "\n",
    "*by Dr [Paul Richmond](http://paulrichmond.shef.ac.uk/) (University of Cambridge)*\n",
    "\n"
   ]
  },
  {
   "cell_type": "markdown",
   "id": "c20f0537-fe27-46c4-8a4f-4d6cc193bf45",
   "metadata": {},
   "source": [
    "\n",
    "## Exercise 01 ##\n",
    "\n",
    "Exercise 1 requires that we de-cipher some encrypted text. The text provided in the file [`encrypted01.bin`](./encryted01.bin) (click file to open in JupyterLab) has been encrypted by using an affine cipher. The affine cypher is a very simple type of monoalphabetic substitution cypher where each numerical character of the alphabet is encrypted using a mathematical function. The encryption function is defined as;\n",
    "\n",
    "$E(x)=(Ax+B) mod M$\n",
    "\n",
    "Where $A$ and $B$ are keys of the cypher, mod is the modulo operation and $A$ and $M$ are co-prime. For this exercise the value of $A$ is `15`, $B$ is `27` and $M$ is `128` (the size of the ASCII alphabet). The affine decryption function is defined as:\n",
    "\n",
    "$D(x)= A^{-1} (x-B)  mod M$\n",
    "\n",
    "Where $A^{-1}$ is the modular multiplicative inverse of $A modulo M$. For this exercise $A^{-1}$ has a value of `111`. \n",
    "\n",
    "Note: The $mod$ operation is not the same as the remainder operator (`%`) for negative numbers. A suitable $mod$ function (`modulo`) has been provided for the example. The provided function takes the form of `modulo(int a, int b)` where `a` in this case is everything left of the affine decryption functions $mod$ opertor and `b` is everything to the right of the $mod$ operator.\n",
    "\n",
    "As each of the encrypted character values are independent we can use the GPU to decrypt them in parallel. To do this we will launch a thread for each of the encrypted character values and use a kernel function to perform the decryption. Starting from the code provided in [`exercise01.cu`](./exercise01.cu) (click file to open and edit in JupyterLab), complete the following  tasks;\n"
   ]
  },
  {
   "cell_type": "markdown",
   "id": "8c1df1ae-01de-4599-b857-d018fb904fb0",
   "metadata": {},
   "source": [
    "### Exercise 01 Step 1\n",
    "\n",
    "Modify the `modulo` function by adding the `__device__ `decorator so that it can be called on the device by the `affine_decrypt` kernel. Using the `__device__` decoroator will ensure that the function will be compiled as device code and will then be availble to call by CUDA Kernels and other device funtions.\n",
    "\n",
    "Although your code wont perform any decryption at this point you can try to build it by running the following cell. Alternatively you can open a new Terminal from the JupyerLab File menu and run the command yourself.\n"
   ]
  },
  {
   "cell_type": "code",
   "execution_count": 2,
   "id": "21704abe-9226-4563-844e-3facf779392a",
   "metadata": {},
   "outputs": [
    {
     "name": "stdout",
     "output_type": "stream",
     "text": [
      "nvcc fatal   : Cannot find compiler 'cl.exe' in PATH\n"
     ]
    }
   ],
   "source": [
    "!nvcc exercise01.cu -o exercise01"
   ]
  },
  {
   "cell_type": "markdown",
   "id": "56c958cd-cbdd-4e7f-8919-27d392994e29",
   "metadata": {},
   "source": [
    "The above will compile and link the `exercise01.cu` file with the NVIDIA CUDA compiler (`nvcc`) and output (`-o`) the executable `exercise01`. At this stage the output buffer will only have junk within it but you can run the executable (in the code cell below) to confirm that it produces an output."
   ]
  },
  {
   "cell_type": "code",
   "execution_count": null,
   "id": "fbff493a-6931-4813-a453-4de81aaf8b84",
   "metadata": {},
   "outputs": [],
   "source": [
    "!./exercise01"
   ]
  },
  {
   "cell_type": "markdown",
   "id": "5b6c0981-4da0-4958-a2e7-140fe1e0e835",
   "metadata": {},
   "source": [
    "### Exercise 01 Step 02\n",
    "\n",
    "Implement the decryption kerne#@title Your Title Herel (`affine_decrypt`) for a single block of threads with an `x` dimension of `N` (`1024`). A kernel definition stub is already provided in the source file. The function has two argument. The input is provided in `d_input`. You should perform your calculation and store the result in `d_output`. You can use the inverse modulus `A`, `B` and `M` C pre-processor definitions (at the top of the source file). \n"
   ]
  },
  {
   "cell_type": "raw",
   "id": "12d7e806-913d-406b-ae49-1329c23dd664",
   "metadata": {
    "tags": []
   },
   "source": []
  },
  {
   "cell_type": "markdown",
   "id": "4f285325-7e62-4adf-9e2d-f49e11423cde",
   "metadata": {},
   "source": [
    "### Exercise 01 Step 03\n",
    "\n",
    "Allocate some memory on the device for the input (`d_input`) and output (`d_output`). \n"
   ]
  },
  {
   "cell_type": "markdown",
   "id": "501df74f-89cc-4fff-94cc-25b733ce86a1",
   "metadata": {},
   "source": [
    "### Exercise 01 Step 04\n",
    "\n",
    "1.4. Copy the host input values in `h_input` to the device memory `d_input`."
   ]
  },
  {
   "cell_type": "markdown",
   "id": "5ae9642d-81f1-4a52-b17f-e4c0ee5945cc",
   "metadata": {},
   "source": [
    "### Exercise 01 Step 05\n",
    "\n",
    "Configure a single block of `N` threads and launch the `affine_decrypt` kernel.\n",
    "\n"
   ]
  },
  {
   "cell_type": "markdown",
   "id": "866730f8-36ef-45b6-98b2-bdc223711e25",
   "metadata": {},
   "source": [
    "### Exercise 01 Step 06\n",
    "\n",
    "Copy the device output values in `d_output` to the host memory `h_output`.\n"
   ]
  },
  {
   "cell_type": "markdown",
   "id": "8a47d398-1381-4e41-a295-75e480a27378",
   "metadata": {},
   "source": [
    "### Exercise 01 Step 07 \n",
    "\n",
    "Compile and execute your program. If you have performed the exercise correctly, you should decrypt the text."
   ]
  },
  {
   "cell_type": "markdown",
   "id": "abd9a0da-e9d5-4a56-95a9-9adaadae6150",
   "metadata": {},
   "source": [
    "### Exercise 01 Step 08\n",
    "\n",
    "Don’t go running off through the forest just yet! Modify your code to complete the `affine_decrypt_multiblock` kernel which should work when using multiple blocks of threads. Change your grid and block dimensions so that you launch `8` blocks of `128` threads.\n"
   ]
  },
  {
   "cell_type": "code",
   "execution_count": null,
   "id": "c7646fec-84e3-4519-a97f-145f4139864c",
   "metadata": {},
   "outputs": [],
   "source": []
  }
 ],
 "metadata": {
  "kernelspec": {
   "display_name": "Python 3 (ipykernel)",
   "language": "python",
   "name": "python3"
  },
  "language_info": {
   "codemirror_mode": {
    "name": "ipython",
    "version": 3
   },
   "file_extension": ".py",
   "mimetype": "text/x-python",
   "name": "python",
   "nbconvert_exporter": "python",
   "pygments_lexer": "ipython3",
   "version": "3.9.16"
  }
 },
 "nbformat": 4,
 "nbformat_minor": 5
}
