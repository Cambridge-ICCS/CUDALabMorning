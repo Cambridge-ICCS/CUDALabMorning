{
 "cells": [
  {
   "cell_type": "markdown",
   "id": "83f844cc-9ce0-4c1b-88d9-f6c5e812325a",
   "metadata": {},
   "source": [
    "# About\n",
    "\n",
    "*by Dr Paul Richmond ([ICCS](https://iccs.cam.ac.uk/) Engineering Lead at University of Cambridge)*\n",
    "\n",
    "This is an \"Introduction to CUDA\" lab designed to be executed inside a Jupyter notebook. It follows on from a series of lectures. You can use the notebook functionality to edit files and run code cells.\n",
    "\n",
    "Some hints are provided in hidden markdown cells. If you are struggling with a particular exercise then click the three dots \"...\" to show the hint (if one is available)."
   ]
  },
  {
   "cell_type": "markdown",
   "id": "0c556d04-03cf-480e-b62f-904ea9047842",
   "metadata": {
    "jupyter": {
     "source_hidden": true
    },
    "tags": []
   },
   "source": [
    "*Note: If you are running this lab on Google Colab then you will need to run the following code cell to obtain the source files.*"
   ]
  },
  {
   "cell_type": "code",
   "execution_count": null,
   "id": "4b74bf1b-c5ff-42c1-8587-c14e2e27bf16",
   "metadata": {
    "jupyter": {
     "source_hidden": true
    },
    "tags": []
   },
   "outputs": [],
   "source": [
    "!git init .\n",
    "!git remote add -f origin https://github.com/Cambridge-ICCS/CUDALabMorning.git\n",
    "!git checkout main"
   ]
  },
  {
   "cell_type": "markdown",
   "id": "c20f0537-fe27-46c4-8a4f-4d6cc193bf45",
   "metadata": {},
   "source": [
    "\n",
    "## Exercise 01\n",
    "\n",
    "Exercise 1 requires that we de-cipher some encrypted text. The text provided in the file [`encrypted01.bin`](./encryted01.bin) (click file to open in JupyterLab) has been encrypted by using an affine cipher. The affine cypher is a very simple type of monoalphabetic substitution cypher where each numerical character of the alphabet is encrypted using a mathematical function. The encryption function is defined as;\n",
    "\n",
    "$E(x)=(Ax+B) mod M$\n",
    "\n",
    "Where $A$ and $B$ are keys of the cypher, $mod$ is the modulo operation and $A$ and $M$ are co-prime. For this exercise the value of $A$ is `15`, $B$ is `27` and $M$ is `128` (the size of the ASCII alphabet). The affine decryption function is defined as:\n",
    "\n",
    "$D(x)= A^{-1} (x-B)  mod M$\n",
    "\n",
    "Where $A^{-1}$ is the modular multiplicative inverse of $A$ modulo $M$. For this exercise $A^{-1}$ has a value of `111`. \n",
    "\n",
    "Note: The $mod$ operation is not the same as the remainder operator (`%`) for negative numbers. A suitable $mod$ function (`modulo`) has been provided for the example. The provided function takes the form of `modulo(int a, int b)` where `a` in this case is everything left of the affine decryption function's $mod$ operator and `b` is everything to the right of the $mod$ operator.\n",
    "\n",
    "As each of the encrypted character values are independent we can use the GPU to decrypt them in parallel. To do this we will launch a thread for each of the encrypted character values and use a kernel function to perform the decryption. Starting from the code provided in [`exercise01.cu`](./exercise01.cu) (click file to open and edit in JupyterLab), complete the following tasks;\n"
   ]
  },
  {
   "cell_type": "markdown",
   "id": "8c1df1ae-01de-4599-b857-d018fb904fb0",
   "metadata": {},
   "source": [
    "### Step 1\n",
    "\n",
    "Modify the `modulo` function by adding the correct function decorator so that it can be called on the device by the `affine_decrypt` kernel. "
   ]
  },
  {
   "cell_type": "markdown",
   "id": "58d43787-00af-46b2-aa43-e138434d7879",
   "metadata": {
    "tags": []
   },
   "source": [
    "*Hint:* Using the `__device__` decorator will ensure that the function will be compiled as device code and will then be available to call by CUDA Kernels and other device functions."
   ]
  },
  {
   "cell_type": "markdown",
   "id": "e5597fd5-3878-4a14-bf85-b3c0907108b9",
   "metadata": {},
   "source": [
    "Although your code won't perform any decryption at this point you can try to build it by running the following cell. Alternatively you can open a new Terminal from the JupyterLab File menu and run the command yourself. It should produce some compiler warnings about \"declared but never referenced\" variables.\n"
   ]
  },
  {
   "cell_type": "code",
   "execution_count": null,
   "id": "21704abe-9226-4563-844e-3facf779392a",
   "metadata": {
    "tags": []
   },
   "outputs": [],
   "source": [
    "!nvcc exercise01.cu -o exercise01"
   ]
  },
  {
   "cell_type": "markdown",
   "id": "56c958cd-cbdd-4e7f-8919-27d392994e29",
   "metadata": {},
   "source": [
    "The above will compile and link the `exercise01.cu` file with the NVIDIA CUDA compiler (`nvcc`) and output (`-o`) the executable `exercise01`. At this stage the output buffer will only have junk within it but you can run the executable (in the code cell below) to confirm that it produces an output."
   ]
  },
  {
   "cell_type": "code",
   "execution_count": null,
   "id": "fbff493a-6931-4813-a453-4de81aaf8b84",
   "metadata": {
    "tags": []
   },
   "outputs": [],
   "source": [
    "!./exercise01"
   ]
  },
  {
   "cell_type": "markdown",
   "id": "5b6c0981-4da0-4958-a2e7-140fe1e0e835",
   "metadata": {},
   "source": [
    "### Step 02\n",
    "\n",
    "Implement the decryption kernel (`affine_decrypt`) for a single block of threads with an `x` dimension of `N` (`1024`). A kernel definition stub is already provided in the source file. The function has two arguments. The input is provided in `d_input`. You should perform your calculation and store the result in `d_output`. You can use the inverse modulus `A`, `B` and `M` C pre-processor definitions (at the top of the source file). \n"
   ]
  },
  {
   "cell_type": "markdown",
   "id": "42d409f5-6efc-4e95-a1ef-67fe2c725e52",
   "metadata": {
    "tags": []
   },
   "source": [
    "*Hint:* You can read a single character from the input array by using the `threadIdx` as an index. E.g.\n",
    "\n",
    "```\n",
    "int value = d_input[threadIdx.x];\n",
    "```\n",
    "\n",
    "It is assumed that the block of threads is one dimensional and as such only the `x` value is required to obtain a unique index position. The same approach can be taken to write to a unique location in the output. The input value can be decrypted by calling the module function. E.g.\n",
    "\n",
    "```\n",
    "modulo(A_MMI_M * (value - B), M)\n",
    "```\n",
    "\n"
   ]
  },
  {
   "cell_type": "markdown",
   "id": "4f285325-7e62-4adf-9e2d-f49e11423cde",
   "metadata": {},
   "source": [
    "### Step 03\n",
    "\n",
    "Allocate some memory on the device for the input (`d_input`) and output (`d_output`). A variable `size` exists already to calculate the size in bytes on the input and output array (of length `N`) \n"
   ]
  },
  {
   "cell_type": "markdown",
   "id": "783430bc-40e8-49f2-805f-08deaa3ea003",
   "metadata": {
    "tags": []
   },
   "source": [
    "*Hint:* `cudaMalloc` Expects and argument which is a pointer to a pointer. The first argument should therefore be the address of a pointer. E.g. `((void **)&d_input, size);`. The cast in this example will explicitly cast the address to the generic void type. Without this the cast would take place implicitly. "
   ]
  },
  {
   "cell_type": "markdown",
   "id": "501df74f-89cc-4fff-94cc-25b733ce86a1",
   "metadata": {},
   "source": [
    "### Step 04\n",
    "\n",
    "1.4. Copy the host input values in `h_input` to the device memory `d_input`."
   ]
  },
  {
   "cell_type": "markdown",
   "id": "affb1959-01d2-4d0c-b8aa-0edd9704ae7f",
   "metadata": {
    "tags": []
   },
   "source": [
    "*Hint:* The function `cudaMemcpy` can be used to copy memory. The function always expects the destination first (as a pointer), followed by source (as a pointer), the size and a a transfer direction. E.g. \n",
    "\n",
    "```\n",
    "cudaMemcpy(d_input, h_input, size, cudaMemcpyHostToDevice);\n",
    "```"
   ]
  },
  {
   "cell_type": "markdown",
   "id": "5ae9642d-81f1-4a52-b17f-e4c0ee5945cc",
   "metadata": {},
   "source": [
    "### Step 05\n",
    "\n",
    "Configure a single one dimensional block of `N` threads using the `blocksPerGrid` and `threadsPerBlock` variables which are commented out in the starting code. Launch the `affine_decrypt` kernel using the kernel launch angle bracket notation `<<<>>>`.\n",
    "\n"
   ]
  },
  {
   "cell_type": "markdown",
   "id": "8d8e01ac-6a34-4ead-ba57-93d331669d09",
   "metadata": {
    "jupyter": {
     "source_hidden": true
    },
    "tags": []
   },
   "source": [
    "*Hint:* As we initially want to launch a single block, `blocksPerGrid` can have the value `(1, 1, 1)`. Remember that the value one defines a size in each dimension (x, y, z). Similarly `threadsPerBlock` can be defined as `(N, 1, 1)`.\n",
    "\n",
    "The kernel should be launched using the grid and then block configuration respectively. E.g. \n",
    "\n",
    "```\n",
    "affine_decrypt_multiblock <<<blocksPerGrid, threadsPerBlock >>>(d_input, d_output);\n",
    "```\n",
    "\n",
    "It is essential that `d_input` and `d_output` are pointers to memory that has been allocated (using `cudaMalloc`) as memory on the device."
   ]
  },
  {
   "cell_type": "markdown",
   "id": "866730f8-36ef-45b6-98b2-bdc223711e25",
   "metadata": {},
   "source": [
    "### Step 06\n",
    "\n",
    "Copy the device output values in `d_output` to the host memory `h_output`.\n"
   ]
  },
  {
   "cell_type": "markdown",
   "id": "a6c4058c-9a60-4647-ac73-0b04e5e9d9c5",
   "metadata": {
    "jupyter": {
     "source_hidden": true
    },
    "tags": []
   },
   "source": [
    "*Hint:* The function `cudaMemcpy` can be used to copy memory. The function always expects the destination first (as a pointer), followed by source (as a pointer), the size and a a transfer direction. E.g.\n",
    "\n",
    "```\n",
    "cudaMemcpy(h_output, d_output, size, cudaMemcpyDeviceToHost);\n",
    "```"
   ]
  },
  {
   "cell_type": "markdown",
   "id": "8a47d398-1381-4e41-a295-75e480a27378",
   "metadata": {},
   "source": [
    "### Step 07 \n",
    "\n",
    "Compile and execute your program. You can do this using the code cells below. Alternatively you can open a new Terminal from the JupyterLab File menu. If you have completed the exercise correctly, you should decrypt the text."
   ]
  },
  {
   "cell_type": "code",
   "execution_count": null,
   "id": "63bd4c90-4a1b-475c-a55c-badbda9459c2",
   "metadata": {},
   "outputs": [],
   "source": [
    "# compile\n",
    "!nvcc exercise01.cu -o exercise01\n",
    "# execute\n",
    "!./exercise01"
   ]
  },
  {
   "cell_type": "markdown",
   "id": "abd9a0da-e9d5-4a56-95a9-9adaadae6150",
   "metadata": {},
   "source": [
    "### Step 08\n",
    "\n",
    "Don’t go running off through the forest just yet! Modify your code to complete the `affine_decrypt_multiblock` kernel which should work when using multiple blocks of threads. Change your grid and block dimensions so that you launch `8` blocks of `128` threads.\n"
   ]
  },
  {
   "cell_type": "markdown",
   "id": "81077917-e06a-4700-a6b3-80934b705ca2",
   "metadata": {
    "tags": []
   },
   "source": [
    "*Hint:* Implementing the multi-block approach requires that the grid block configuration is changed. E.g.\n",
    "\n",
    "```\n",
    "dim3 blocksPerGrid(8, 1, 1);\n",
    "dim3 threadsPerBlock(N / 8, 1, 1);\n",
    "```\n",
    "\n",
    "The unique index for a thread within the kernel can then be computed as\n",
    "\n",
    "```\n",
    "int index = blockDim.x*blockIdx.x + threadIdx.x;\n",
    "```"
   ]
  },
  {
   "cell_type": "markdown",
   "id": "1cfaca2b-715a-4aa6-8859-844e9fdc1cd7",
   "metadata": {},
   "source": [
    "### Exercise 01 Solutions\n",
    "\n",
    "If you have found that you have got stuck with the code you can view the solutions by checking out the solution file using the code cell below. The command will checkout a single file from the solutions branch of the repository but it will override any changes you have made."
   ]
  },
  {
   "cell_type": "code",
   "execution_count": null,
   "id": "2711c8b6-dfd9-4401-937a-56b22e2c5407",
   "metadata": {},
   "outputs": [],
   "source": [
    "!git checkout origin/solutions -- exercise01.cu"
   ]
  },
  {
   "cell_type": "markdown",
   "id": "00af0305-d4fb-422e-b298-7880db13679d",
   "metadata": {},
   "source": [
    "## Exercise 02"
   ]
  },
  {
   "cell_type": "markdown",
   "id": "b881fa01-8d69-4241-9323-e5f0009bc0d0",
   "metadata": {},
   "source": [
    "In exercise 2 we are going to extend the vector addition example from the lecture. The file [`exercise02.cu`](./exercise02.cu) has been provided as a starting point (click file to open and edit in JupyterLab). Perform the following steps."
   ]
  },
  {
   "cell_type": "markdown",
   "id": "4fae349e-f671-4d11-969b-357abe99ac56",
   "metadata": {
    "tags": []
   },
   "source": [
    "### Step 01\n",
    "\n",
    "The code has an obvious mistake. Rather than correct it implement a CPU version of the vector addition (called `vectorAddCPU`) storing the result in an array called `c_ref`. Implement a new function `validate` which compares the GPU result to the CPU result. It should print an error for each value which is incorrect and return a value indicating the total number of errors. You should also print the number of errors to the console. Now fix the error and confirm your error check code works."
   ]
  },
  {
   "cell_type": "markdown",
   "id": "40136bfe-d4bd-4c28-8635-9479936b9cfa",
   "metadata": {
    "tags": []
   },
   "source": [
    "### Step 02\n",
    "\n",
    "Change the value of `N` to `2050`. Do not run your code yet as it will now perform unsafe writes beyond the memory bounds which you have allocated. This is because a whole thread block is required for the extra two threads (our grid is always made up of entire blocks). You should modify the kernel by adding a check in the kernel so that you do not write beyond the bounds of the allocated memory. This will require you the ensure that the threads unique position that it indexed into memory does not exceed `N`. Threads which fail this test should no nothing. "
   ]
  },
  {
   "cell_type": "markdown",
   "id": "69ef5a0c-3367-4167-b413-6e25e648c2eb",
   "metadata": {
    "tags": []
   },
   "source": [
    "### Compile and Execute\n",
    "\n",
    "You can compile and execute exercise 2 using the code cells below."
   ]
  },
  {
   "cell_type": "code",
   "execution_count": null,
   "id": "0859ea24-aa6d-4ad4-a391-f77211ddc377",
   "metadata": {
    "tags": []
   },
   "outputs": [],
   "source": [
    "# compile\n",
    "!nvcc exercise02.cu -o exercise02"
   ]
  },
  {
   "cell_type": "code",
   "execution_count": null,
   "id": "4e348ec8-e261-45a9-9689-b33d5c03faa5",
   "metadata": {
    "tags": []
   },
   "outputs": [],
   "source": [
    "# execute\n",
    "!./exercise02"
   ]
  },
  {
   "cell_type": "markdown",
   "id": "62f83e5d-ac6e-445e-a275-589b3380bf4f",
   "metadata": {},
   "source": [
    "### Exercise 02 Solutions\n",
    "\n",
    "If you have found that you have got stuck with the code you can view the solutions by checking out the solution file using the code cell below. The command will checkout a single file from the solutions branch of the repository but it will override any changes you have made."
   ]
  },
  {
   "cell_type": "code",
   "execution_count": null,
   "id": "bfff4f44-d4d8-403f-9173-606d396ad4d6",
   "metadata": {},
   "outputs": [],
   "source": [
    "!git checkout origin/solutions -- exercise02.cu"
   ]
  },
  {
   "cell_type": "markdown",
   "id": "4281db94-ad44-4c4b-86a1-ab020e7fcc20",
   "metadata": {},
   "source": [
    "## Exercise 03\n",
    "\n",
    "We are going to implement a matrix addition kernel. In matrix addition, two matrices of the same dimensions are added entry wise. If you modify your code from exercise 2 by copying the file to a new file called [`exercise03.cu`](./exercise03.cu). It will require the following changes;\n"
   ]
  },
  {
   "cell_type": "markdown",
   "id": "4954922a-b179-40aa-80ad-81344130e9cd",
   "metadata": {},
   "source": [
    "### Step 01\n",
    "\n",
    "Modify the value of `size` so that you allocate enough memory for a matrix size of `N x N`. This will ensure the existing calls to `cudaMemcpy` copy the correct amount of memory. Set `N` to `2048`."
   ]
  },
  {
   "cell_type": "markdown",
   "id": "0662588e-6803-4156-b717-5623b2c20541",
   "metadata": {
    "jupyter": {
     "source_hidden": true
    }
   },
   "source": [
    "### Step 02\n",
    "\n",
    "Modify the `random_ints` function to generate a random matrix rather than a vector. Note: The approach used to allocate memory for the 2D matrix uses a single pointer and as such indexing into each row will require a stride of `N`. E.g. To index row `j` and column `i` you would use `[j*N + i]`."
   ]
  },
  {
   "cell_type": "markdown",
   "id": "af2de179-655f-4a38-8f1f-6aeafbe315a3",
   "metadata": {},
   "source": [
    "### Step 03\n",
    "\n",
    "Rename your CPU implementation to `matrixAddCPU` and update the validate function for reference and to help test any errors with your kernel."
   ]
  },
  {
   "cell_type": "markdown",
   "id": "1d5d1b05-c81d-47dd-94cd-b90dc2a44a11",
   "metadata": {},
   "source": [
    "### Step 04\n",
    "\n",
    "Change your launch parameters to launch a 2D grid of thread blocks with `256` threads per block. Rename the exiting `vectorAdd` kernel to `matrixAdd` and update the code to perform the matrix addition. "
   ]
  },
  {
   "cell_type": "markdown",
   "id": "31c8af06-81d4-4159-a5c8-b25175aecb9a",
   "metadata": {
    "jupyter": {
     "source_hidden": true
    },
    "tags": []
   },
   "source": [
    "*Hint:* You might find it helps to reduce `N` to a single thread block implementation initially."
   ]
  },
  {
   "cell_type": "markdown",
   "id": "eef08f40-7501-42ae-9fcd-375d0782c592",
   "metadata": {
    "tags": []
   },
   "source": [
    "### Compile and Execute\n",
    "\n",
    "You can compile and execute exercise 2 using the code cells below."
   ]
  },
  {
   "cell_type": "code",
   "execution_count": null,
   "id": "41c2aad8-d23b-451e-bfe0-a319206f46f2",
   "metadata": {
    "tags": []
   },
   "outputs": [],
   "source": [
    "# compile\n",
    "!nvcc exercise03.cu -o exercise03"
   ]
  },
  {
   "cell_type": "code",
   "execution_count": null,
   "id": "73420363-a991-477f-8400-38bc1a03a3cf",
   "metadata": {},
   "outputs": [],
   "source": [
    "# execute\n",
    "!./exercise03"
   ]
  },
  {
   "cell_type": "markdown",
   "id": "ddd5b328-3900-4c5a-9779-86f4a36951d8",
   "metadata": {},
   "source": [
    "### Exercise 03 Solutions\n",
    "\n",
    "If you have found that you have got stuck with the code you can view the solutions by checking out the solution file using the code cell below. The command will checkout a single file from the solutions branch of the repository but it will override any changes you have made."
   ]
  },
  {
   "cell_type": "code",
   "execution_count": null,
   "id": "efe4ff61-66dd-423d-aeb8-e8a5091bf807",
   "metadata": {},
   "outputs": [],
   "source": [
    "!git checkout origin/solutions -- exercise03.cu"
   ]
  }
 ],
 "metadata": {
  "kernelspec": {
   "display_name": "Python 3 (ipykernel)",
   "language": "python",
   "name": "python3"
  },
  "language_info": {
   "codemirror_mode": {
    "name": "ipython",
    "version": 3
   },
   "file_extension": ".py",
   "mimetype": "text/x-python",
   "name": "python",
   "nbconvert_exporter": "python",
   "pygments_lexer": "ipython3",
   "version": "3.9.16"
  }
 },
 "nbformat": 4,
 "nbformat_minor": 5
}
